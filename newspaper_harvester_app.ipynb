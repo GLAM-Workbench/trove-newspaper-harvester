{
 "cells": [
  {
   "cell_type": "markdown",
   "metadata": {},
   "source": [
    "# Trove Newspaper & Gazette Harvester\n",
    "\n",
    "Download large quantities of digitised newspaper and gazette articles from [Trove](https://trove.nla.gov.au/newspaper/) with this simplified, web-based interface to the [Trove Harvester](https://github.com/wragge/troveharvester) command-line tool."
   ]
  },
  {
   "cell_type": "code",
   "execution_count": null,
   "metadata": {},
   "outputs": [],
   "source": [
    "# This notebook is designed to run in Voila as an app (with the code hidden).\n",
    "# To launch this notebook in Voila, just select 'View > Open with Voila in New Browser Tab'\n",
    "# Your browser might ask for permission to open the new tab as a popup."
   ]
  },
  {
   "cell_type": "code",
   "execution_count": null,
   "metadata": {},
   "outputs": [],
   "source": [
    "import datetime\n",
    "import json\n",
    "import os\n",
    "import shutil\n",
    "import time\n",
    "\n",
    "import ipywidgets as widgets\n",
    "import requests\n",
    "from IPython.display import HTML, display\n",
    "from requests.adapters import HTTPAdapter\n",
    "from requests.packages.urllib3.util.retry import Retry\n",
    "\n",
    "# Import everything from the troveharvester package\n",
    "from tqdm.auto import tqdm\n",
    "from troveharvester.__main__ import Harvester, make_dir, prepare_query\n",
    "\n",
    "s = requests.Session()\n",
    "retries = Retry(total=5, backoff_factor=1, status_forcelist=[500, 502, 503, 504])\n",
    "s.mount(\"http://\", HTTPAdapter(max_retries=retries))\n",
    "s.mount(\"https://\", HTTPAdapter(max_retries=retries))"
   ]
  },
  {
   "cell_type": "code",
   "execution_count": null,
   "metadata": {},
   "outputs": [],
   "source": [
    "%%capture\n",
    "# Load environment variables if available\n",
    "%load_ext dotenv\n",
    "%dotenv"
   ]
  },
  {
   "cell_type": "code",
   "execution_count": null,
   "metadata": {},
   "outputs": [],
   "source": [
    "# These basically replace functions in the TroveHarvester package\n",
    "# Instead of getting parameters from the command line, they get them from the widgets.\n",
    "\n",
    "\n",
    "def nb_save_meta(data_dir, harvest):\n",
    "    \"\"\"\n",
    "    Save the query metadata in a JSON file.\n",
    "    Useful for documenting your harvest.\n",
    "    \"\"\"\n",
    "    meta = {}\n",
    "    meta[\"query\"] = query_url.value\n",
    "    meta[\"key\"] = api_key.value\n",
    "    meta[\"max\"] = None\n",
    "    meta[\"pdf\"] = pdf.value\n",
    "    meta[\"text\"] = text.value\n",
    "    meta[\"image\"] = image.value\n",
    "    meta[\"harvest\"] = harvest\n",
    "    meta[\"date_started\"] = datetime.datetime.now().isoformat()\n",
    "    meta[\"start\"] = \"*\"\n",
    "    with open(os.path.join(data_dir, \"metadata.json\"), \"w\") as meta_file:\n",
    "        json.dump(meta, meta_file, indent=4)\n",
    "\n",
    "\n",
    "def nb_prepare_harvest(b):\n",
    "    \"\"\"\n",
    "    Create ouput directories, get parameters from widgets & run the harvest.\n",
    "    Triggered by the Start button.\n",
    "    \"\"\"\n",
    "    out.clear_output()\n",
    "    harvest = str(int(time.time()))  # Get rid of fractions\n",
    "    data_dir = os.path.join(os.getcwd(), \"data\", harvest)\n",
    "    make_dir(data_dir)\n",
    "    nb_save_meta(data_dir, harvest)\n",
    "    if pdf.value is True:\n",
    "        make_dir(os.path.join(data_dir, \"pdf\"))\n",
    "    if text.value is True:\n",
    "        make_dir(os.path.join(data_dir, \"text\"))\n",
    "    if image.value is True:\n",
    "        make_dir(os.path.join(data_dir, \"image\"))\n",
    "    with out:\n",
    "        nb_start_harvest(\n",
    "            data_dir=data_dir,\n",
    "            key=api_key.value,\n",
    "            query=query_url.value,\n",
    "            pdf=pdf.value,\n",
    "            text=text.value,\n",
    "            image=image.value,\n",
    "            start=\"*\",\n",
    "            max=None,\n",
    "        )\n",
    "        # out.clear_output(wait=True)\n",
    "        shutil.make_archive(data_dir, \"zip\", data_dir)\n",
    "        display(\n",
    "            HTML(\n",
    "                f'<b>Download results</b>: <a download href=\"data/{harvest}.zip\">data/{harvest}.zip</a>'\n",
    "            )\n",
    "        )\n",
    "\n",
    "\n",
    "def nb_start_harvest(data_dir, key, query, pdf, text, image, start, max):\n",
    "    \"\"\"\n",
    "    Start a harvest.\n",
    "    \"\"\"\n",
    "    # Turn the query url into a dictionary of parameters\n",
    "    params = prepare_query(query, text, key)\n",
    "    # Create the harvester\n",
    "    harvester = nb_Harvester(\n",
    "        query_params=params,\n",
    "        data_dir=data_dir,\n",
    "        pdf=pdf,\n",
    "        text=text,\n",
    "        image=image,\n",
    "        start=start,\n",
    "        max=max,\n",
    "    )\n",
    "    # Go!\n",
    "    harvester.harvest()\n",
    "\n",
    "\n",
    "class nb_Harvester(Harvester):\n",
    "    def harvest(self):\n",
    "        \"\"\"\n",
    "        Start the harvest and loop over the result set until finished.\n",
    "        \"\"\"\n",
    "        params = self.query_params.copy()\n",
    "        params[\"n\"] = self.number\n",
    "        with out:\n",
    "            with tqdm(total=self.maximum, unit=\"article\") as pbar:\n",
    "                while self.start and (self.harvested < self.maximum):\n",
    "                    params[\"s\"] = self.start\n",
    "                    response = s.get(self.api_url, params=params, timeout=30)\n",
    "                    # print(response.url)\n",
    "                    try:\n",
    "                        results = response.json()\n",
    "                    except (AttributeError, ValueError):\n",
    "                        # Log errors?\n",
    "                        pass\n",
    "                    else:\n",
    "                        records = results[\"response\"][\"zone\"][0][\"records\"]\n",
    "                        self.process_results(records, pbar)\n",
    "                        # pbar.update(len(records['article']))"
   ]
  },
  {
   "cell_type": "code",
   "execution_count": null,
   "metadata": {},
   "outputs": [],
   "source": [
    "# All the UI stuff\n",
    "\n",
    "# Somewhere to put the results\n",
    "out = widgets.Output(layout=widgets.Layout(padding=\"40px\"))\n",
    "\n",
    "api_key = widgets.Text(\n",
    "    placeholder=\"Enter your Trove API key\", description=\"API key:\", disabled=False\n",
    ")\n",
    "\n",
    "query_url = widgets.Text(\n",
    "    placeholder=\"Enter the url of your search\",\n",
    "    description=\"Query url:\",\n",
    "    disabled=False,\n",
    "    layout=widgets.Layout(width=\"100%\"),\n",
    ")\n",
    "\n",
    "text = widgets.Checkbox(value=False, description=\"Save full text\", disabled=False)\n",
    "\n",
    "pdf = widgets.Checkbox(value=False, description=\"Save PDFs\", disabled=False)\n",
    "\n",
    "image = widgets.Checkbox(\n",
    "    value=False, description=\"Save articles as images\", disabled=False\n",
    ")\n",
    "\n",
    "start_button = widgets.Button(\n",
    "    description=\"Start harvest\",\n",
    "    disabled=False,\n",
    "    button_style=\"primary\",  # 'success', 'info', 'warning', 'danger' or ''\n",
    "    tooltip=\"Start harvest\",\n",
    "    icon=\"\",\n",
    ")\n",
    "\n",
    "start_button.on_click(nb_prepare_harvest)"
   ]
  },
  {
   "cell_type": "markdown",
   "metadata": {},
   "source": [
    "## Enter your Trove API key\n",
    "\n",
    "The harvester gets its data from the Trove API. To use the API [you need a key](http://help.nla.gov.au/trove/building-with-trove/api) — the process is quick, painless, and free. Once you have a key, paste it in below."
   ]
  },
  {
   "cell_type": "code",
   "execution_count": null,
   "metadata": {},
   "outputs": [],
   "source": [
    "display(api_key)"
   ]
  },
  {
   "cell_type": "markdown",
   "metadata": {},
   "source": [
    "## Enter your search query\n",
    "\n",
    "Use the [Trove web interface](https://trove.nla.gov.au/newspaper/) to construct your search. Remember that the harvester will get **all** of the matched results, not just the first 2,000 you see in the web interface. Once you're happy with your search, just copy the url and paste it below."
   ]
  },
  {
   "cell_type": "code",
   "execution_count": null,
   "metadata": {},
   "outputs": [],
   "source": [
    "display(query_url)"
   ]
  },
  {
   "cell_type": "markdown",
   "metadata": {},
   "source": [
    "## Set harvest options\n",
    "\n",
    "By default the harvester only saves the metadata (date, page, title, newspaper etc) from the search results. If you want to save the full text content of each article, just check the 'Save full text' box. You can also save JPEG and PDF copies of every article by checking the 'Save articles as images' or 'Save PDFs' boxes, but note that this will slow down your harvest and generate large download files."
   ]
  },
  {
   "cell_type": "code",
   "execution_count": null,
   "metadata": {},
   "outputs": [],
   "source": [
    "display(text)\n",
    "display(pdf)\n",
    "display(image)"
   ]
  },
  {
   "cell_type": "code",
   "execution_count": null,
   "metadata": {},
   "outputs": [],
   "source": [
    "display(start_button)\n",
    "display(out)"
   ]
  },
  {
   "cell_type": "markdown",
   "metadata": {},
   "source": [
    "Once your harvest is complete a link will appear to download the results as a single, zipped file. See the GLAM Workbench for more information about the [contents and format of the results folder](https://glam-workbench.net/trove-harvester/#your-harvested-data)."
   ]
  },
  {
   "cell_type": "code",
   "execution_count": null,
   "metadata": {},
   "outputs": [],
   "source": [
    "# TESTING\n",
    "if os.getenv(\"GW_STATUS\") == \"dev\" and os.getenv(\"TROVE_API_KEY\"):\n",
    "    api_key.value = os.getenv(\"TROVE_API_KEY\")\n",
    "    query_url.value = \"https://trove.nla.gov.au/search/category/newspapers?keyword=wragge%201902&l-artType=newspapers&l-state=Queensland&l-title=840\"\n",
    "    start_button.click()"
   ]
  },
  {
   "cell_type": "markdown",
   "metadata": {},
   "source": [
    "----\n",
    "\n",
    "Created by [Tim Sherratt](https://timsherratt.org) ([@wragge](https://twitter.com/wragge)) for the [GLAM Workbench](https://github.com/glam-workbench/).  \n",
    "Support this project by [becoming a GitHub sponsor](https://github.com/sponsors/wragge?o=esb).\n"
   ]
  }
 ],
 "metadata": {
  "kernelspec": {
   "display_name": "Python 3 (ipykernel)",
   "language": "python",
   "name": "python3"
  },
  "language_info": {
   "codemirror_mode": {
    "name": "ipython",
    "version": 3
   },
   "file_extension": ".py",
   "mimetype": "text/x-python",
   "name": "python",
   "nbconvert_exporter": "python",
   "pygments_lexer": "ipython3",
   "version": "3.8.12"
  },
  "widgets": {
   "application/vnd.jupyter.widget-state+json": {
    "state": {
     "059b100ca8424ec981663fae2fa0abbf": {
      "model_module": "@jupyter-widgets/controls",
      "model_module_version": "1.5.0",
      "model_name": "HTMLModel",
      "state": {
       "layout": "IPY_MODEL_7d3c7550e493453b8509b2f743cae740",
       "style": "IPY_MODEL_8d27f02d863644a6b196106154ee0c03",
       "value": " 272/272 [00:04&lt;00:00, 49.04article/s]"
      }
     },
     "19a2f69f905f4a7ba7a22e81fedf83a3": {
      "model_module": "@jupyter-widgets/controls",
      "model_module_version": "1.5.0",
      "model_name": "DescriptionStyleModel",
      "state": {
       "description_width": ""
      }
     },
     "25995998dd6d45b4ba9fa44bc72d419a": {
      "model_module": "@jupyter-widgets/base",
      "model_module_version": "1.2.0",
      "model_name": "LayoutModel",
      "state": {}
     },
     "291c4c293d694a50a7c145297767c606": {
      "model_module": "@jupyter-widgets/base",
      "model_module_version": "1.2.0",
      "model_name": "LayoutModel",
      "state": {
       "padding": "40px"
      }
     },
     "299d62d5f35546508373998f0fc33838": {
      "model_module": "@jupyter-widgets/controls",
      "model_module_version": "1.5.0",
      "model_name": "FloatProgressModel",
      "state": {
       "bar_style": "success",
       "layout": "IPY_MODEL_2a5238c4f44a4885b4d6b36c7f96fa76",
       "max": 272,
       "style": "IPY_MODEL_5f3e3b97fc8e49e69c72c7437b174d29",
       "value": 272
      }
     },
     "2a5238c4f44a4885b4d6b36c7f96fa76": {
      "model_module": "@jupyter-widgets/base",
      "model_module_version": "1.2.0",
      "model_name": "LayoutModel",
      "state": {}
     },
     "3cdc100f5e644e6cb4b6bbc18280c4f4": {
      "model_module": "@jupyter-widgets/controls",
      "model_module_version": "1.5.0",
      "model_name": "DescriptionStyleModel",
      "state": {
       "description_width": ""
      }
     },
     "3e9efabcc11b4e0d8e740236da965a21": {
      "model_module": "@jupyter-widgets/controls",
      "model_module_version": "1.5.0",
      "model_name": "TextModel",
      "state": {
       "description": "API key:",
       "layout": "IPY_MODEL_bd1f8dab962e4ccea1bf85b5a9b0a3aa",
       "placeholder": "Enter your Trove API key",
       "style": "IPY_MODEL_55e4cef03a5847bcaccc0ae90722e19c",
       "value": "gq29l1g1h75pimh4"
      }
     },
     "4904f9aef121497bb28bf92dbdb65243": {
      "model_module": "@jupyter-widgets/base",
      "model_module_version": "1.2.0",
      "model_name": "LayoutModel",
      "state": {}
     },
     "496f49626295468a8aa97bf83ab1b45c": {
      "model_module": "@jupyter-widgets/controls",
      "model_module_version": "1.5.0",
      "model_name": "ButtonStyleModel",
      "state": {}
     },
     "4a0fab97932b441abfbf18bd4489ac91": {
      "model_module": "@jupyter-widgets/controls",
      "model_module_version": "1.5.0",
      "model_name": "DescriptionStyleModel",
      "state": {
       "description_width": ""
      }
     },
     "55d35a3b167545978c4243277424d281": {
      "model_module": "@jupyter-widgets/controls",
      "model_module_version": "1.5.0",
      "model_name": "HBoxModel",
      "state": {
       "children": [
        "IPY_MODEL_9d5661de4deb4c8680306e0a14dcaf25",
        "IPY_MODEL_299d62d5f35546508373998f0fc33838",
        "IPY_MODEL_059b100ca8424ec981663fae2fa0abbf"
       ],
       "layout": "IPY_MODEL_25995998dd6d45b4ba9fa44bc72d419a"
      }
     },
     "55e4cef03a5847bcaccc0ae90722e19c": {
      "model_module": "@jupyter-widgets/controls",
      "model_module_version": "1.5.0",
      "model_name": "DescriptionStyleModel",
      "state": {
       "description_width": ""
      }
     },
     "57d891f37c5d4272ad39d68e2979d07b": {
      "model_module": "@jupyter-widgets/base",
      "model_module_version": "1.2.0",
      "model_name": "LayoutModel",
      "state": {}
     },
     "5f3e3b97fc8e49e69c72c7437b174d29": {
      "model_module": "@jupyter-widgets/controls",
      "model_module_version": "1.5.0",
      "model_name": "ProgressStyleModel",
      "state": {
       "description_width": ""
      }
     },
     "79be637398f74a9380a804037c3d3222": {
      "model_module": "@jupyter-widgets/controls",
      "model_module_version": "1.5.0",
      "model_name": "DescriptionStyleModel",
      "state": {
       "description_width": ""
      }
     },
     "7d3c7550e493453b8509b2f743cae740": {
      "model_module": "@jupyter-widgets/base",
      "model_module_version": "1.2.0",
      "model_name": "LayoutModel",
      "state": {}
     },
     "842f2467a20d4ef7ae79691212887293": {
      "model_module": "@jupyter-widgets/output",
      "model_module_version": "1.0.0",
      "model_name": "OutputModel",
      "state": {
       "layout": "IPY_MODEL_291c4c293d694a50a7c145297767c606",
       "outputs": [
        {
         "data": {
          "application/vnd.jupyter.widget-view+json": {
           "model_id": "",
           "version_major": 2,
           "version_minor": 0
          },
          "text/plain": "  0%|          | 0/272 [00:00<?, ?article/s]"
         },
         "metadata": {},
         "output_type": "display_data"
        },
        {
         "data": {
          "text/html": "<b>Download results</b>: <a download href=\"data/1655945543.zip\">data/1655945543.zip</a>",
          "text/plain": "<IPython.core.display.HTML object>"
         },
         "metadata": {},
         "output_type": "display_data"
        }
       ]
      }
     },
     "89db993b1c474a40b259de47ee8e2bba": {
      "model_module": "@jupyter-widgets/controls",
      "model_module_version": "1.5.0",
      "model_name": "DescriptionStyleModel",
      "state": {
       "description_width": ""
      }
     },
     "8aff499370f04bcb918efefe6a51d6e4": {
      "model_module": "@jupyter-widgets/base",
      "model_module_version": "1.2.0",
      "model_name": "LayoutModel",
      "state": {}
     },
     "8d27f02d863644a6b196106154ee0c03": {
      "model_module": "@jupyter-widgets/controls",
      "model_module_version": "1.5.0",
      "model_name": "DescriptionStyleModel",
      "state": {
       "description_width": ""
      }
     },
     "93e80916da9a4758a9e2b74628207d90": {
      "model_module": "@jupyter-widgets/base",
      "model_module_version": "1.2.0",
      "model_name": "LayoutModel",
      "state": {}
     },
     "95391942903c494cbfe7018a89a7eb50": {
      "model_module": "@jupyter-widgets/base",
      "model_module_version": "1.2.0",
      "model_name": "LayoutModel",
      "state": {}
     },
     "9d5661de4deb4c8680306e0a14dcaf25": {
      "model_module": "@jupyter-widgets/controls",
      "model_module_version": "1.5.0",
      "model_name": "HTMLModel",
      "state": {
       "layout": "IPY_MODEL_95391942903c494cbfe7018a89a7eb50",
       "style": "IPY_MODEL_3cdc100f5e644e6cb4b6bbc18280c4f4",
       "value": "100%"
      }
     },
     "a38882285f7d48ff9551efcf82bc70f6": {
      "model_module": "@jupyter-widgets/controls",
      "model_module_version": "1.5.0",
      "model_name": "CheckboxModel",
      "state": {
       "description": "Save full text",
       "disabled": false,
       "layout": "IPY_MODEL_8aff499370f04bcb918efefe6a51d6e4",
       "style": "IPY_MODEL_79be637398f74a9380a804037c3d3222",
       "value": false
      }
     },
     "a6bf19ccd2f24ea3bd6bcaa417fa877e": {
      "model_module": "@jupyter-widgets/controls",
      "model_module_version": "1.5.0",
      "model_name": "ButtonModel",
      "state": {
       "button_style": "primary",
       "description": "Start harvest",
       "layout": "IPY_MODEL_57d891f37c5d4272ad39d68e2979d07b",
       "style": "IPY_MODEL_496f49626295468a8aa97bf83ab1b45c",
       "tooltip": "Start harvest"
      }
     },
     "bd1f8dab962e4ccea1bf85b5a9b0a3aa": {
      "model_module": "@jupyter-widgets/base",
      "model_module_version": "1.2.0",
      "model_name": "LayoutModel",
      "state": {}
     },
     "bd652551773e4720902d198073101528": {
      "model_module": "@jupyter-widgets/controls",
      "model_module_version": "1.5.0",
      "model_name": "CheckboxModel",
      "state": {
       "description": "Save articles as images",
       "disabled": false,
       "layout": "IPY_MODEL_93e80916da9a4758a9e2b74628207d90",
       "style": "IPY_MODEL_4a0fab97932b441abfbf18bd4489ac91",
       "value": false
      }
     },
     "e08416958c0e410db3053337426f727b": {
      "model_module": "@jupyter-widgets/controls",
      "model_module_version": "1.5.0",
      "model_name": "CheckboxModel",
      "state": {
       "description": "Save PDFs",
       "disabled": false,
       "layout": "IPY_MODEL_4904f9aef121497bb28bf92dbdb65243",
       "style": "IPY_MODEL_19a2f69f905f4a7ba7a22e81fedf83a3",
       "value": false
      }
     },
     "ec8a742b6e1f4147bb751d179e227d70": {
      "model_module": "@jupyter-widgets/controls",
      "model_module_version": "1.5.0",
      "model_name": "TextModel",
      "state": {
       "description": "Query url:",
       "layout": "IPY_MODEL_f0f4ddfbfb5048f1b8956ca29d3d3b94",
       "placeholder": "Enter the url of your search",
       "style": "IPY_MODEL_89db993b1c474a40b259de47ee8e2bba",
       "value": "https://trove.nla.gov.au/search/category/newspapers?keyword=wragge%201902&l-artType=newspapers&l-state=Queensland&l-title=840"
      }
     },
     "f0f4ddfbfb5048f1b8956ca29d3d3b94": {
      "model_module": "@jupyter-widgets/base",
      "model_module_version": "1.2.0",
      "model_name": "LayoutModel",
      "state": {
       "width": "100%"
      }
     }
    },
    "version_major": 2,
    "version_minor": 0
   }
  }
 },
 "nbformat": 4,
 "nbformat_minor": 4
}
