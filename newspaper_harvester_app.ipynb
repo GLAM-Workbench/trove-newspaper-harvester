{
 "cells": [
  {
   "cell_type": "markdown",
   "metadata": {},
   "source": [
    "# Trove Newspaper Harvester\n",
    "\n",
    "Download large quantities of digitised newspaper articles from [Trove](https://trove.nla.gov.au/newspaper/) with this simplified, web-based interface to the [TroveHarvester tool](https://github.com/wragge/troveharvester)."
   ]
  },
  {
   "cell_type": "code",
   "execution_count": null,
   "metadata": {},
   "outputs": [],
   "source": [
    "import time\n",
    "import argparse\n",
    "import os\n",
    "import shutil\n",
    "import datetime\n",
    "import arrow\n",
    "import json\n",
    "import ipywidgets as widgets\n",
    "from IPython.display import display, HTML, FileLink, clear_output\n",
    "from pprint import pprint\n",
    "import re\n",
    "import unicodecsv as csv\n",
    "import requests\n",
    "from requests.adapters import HTTPAdapter\n",
    "from requests.packages.urllib3.util.retry import Retry\n",
    "try:\n",
    "    from urllib.parse import urlparse, parse_qsl\n",
    "except ImportError:\n",
    "    from urlparse import urlparse, parse_qsl\n",
    "# Import everything from the troveharvester package\n",
    "from troveharvester.__main__ import *\n",
    "from tqdm.auto import tqdm\n",
    "\n",
    "s = requests.Session()\n",
    "retries = Retry(total=5, backoff_factor=1, status_forcelist=[ 500, 502, 503, 504 ])\n",
    "s.mount('http://', HTTPAdapter(max_retries=retries))\n",
    "s.mount('https://', HTTPAdapter(max_retries=retries))"
   ]
  },
  {
   "cell_type": "code",
   "execution_count": null,
   "metadata": {},
   "outputs": [],
   "source": [
    "# These basically replace functions in the TroveHarvester package\n",
    "# Instead of getting parameters from the command line, they get them from the widgets.\n",
    "\n",
    "def nb_save_meta(data_dir, harvest):\n",
    "    '''\n",
    "    Save the query metadata in a JSON file.\n",
    "    Useful for documenting your harvest.\n",
    "    '''\n",
    "    meta = {}\n",
    "    meta['query'] = query_url.value\n",
    "    meta['key'] = api_key.value\n",
    "    meta['max'] = None\n",
    "    meta['pdf'] = pdf.value\n",
    "    meta['text'] = text.value\n",
    "    meta['image'] = image.value\n",
    "    meta['harvest'] = harvest\n",
    "    meta['date_started'] = datetime.datetime.now().isoformat()\n",
    "    meta['start'] = '*'\n",
    "    with open(os.path.join(data_dir, 'metadata.json'), 'w') as meta_file:\n",
    "        json.dump(meta, meta_file, indent=4)\n",
    "\n",
    "def nb_prepare_harvest(b):\n",
    "    '''\n",
    "    Create ouput directories, get parameters from widgets & run the harvest.\n",
    "    Triggered by the Start button.\n",
    "    '''\n",
    "    out.clear_output()\n",
    "    harvest = str(int(time.time()))  # Get rid of fractions\n",
    "    data_dir = os.path.join(os.getcwd(), 'data', harvest)\n",
    "    make_dir(data_dir)\n",
    "    nb_save_meta(data_dir, harvest)\n",
    "    if pdf.value == True:\n",
    "        make_dir(os.path.join(data_dir, 'pdf'))\n",
    "    if text.value == True:\n",
    "        make_dir(os.path.join(data_dir, 'text'))\n",
    "    if image.value == True:\n",
    "        make_dir(os.path.join(data_dir, 'image'))\n",
    "    with out:\n",
    "        nb_start_harvest(data_dir=data_dir, key=api_key.value, query=query_url.value, pdf=pdf.value, text=text.value, image=image.value, start='*', max=None)\n",
    "        # out.clear_output(wait=True)\n",
    "        shutil.make_archive(data_dir, 'zip', data_dir)\n",
    "        display(HTML('<b>Download results</b>'))\n",
    "        display(FileLink('data/{}.zip'.format(harvest)))\n",
    "    \n",
    "def nb_start_harvest(data_dir, key, query, pdf, text, image, start, max):\n",
    "    '''\n",
    "    Start a harvest.\n",
    "    '''\n",
    "    # Turn the query url into a dictionary of parameters\n",
    "    params = prepare_query(query, text, key)\n",
    "    # Create the harvester\n",
    "    harvester = nb_Harvester(query_params=params, data_dir=data_dir, pdf=pdf, text=text, image=image, start=start, max=max)\n",
    "    # Go!\n",
    "    harvester.harvest()\n",
    "\n",
    "class nb_Harvester(Harvester):\n",
    "    \n",
    "        def harvest(self):\n",
    "            '''\n",
    "            Start the harvest and loop over the result set until finished.\n",
    "            '''\n",
    "            number = self.number\n",
    "            params = self.query_params.copy()\n",
    "            params['n'] = self.number\n",
    "            with out:\n",
    "                with tqdm(total=self.maximum, unit='article') as pbar:\n",
    "                    while self.start and (self.harvested < self.maximum):\n",
    "                        params['s'] = self.start\n",
    "                        response = s.get(self.api_url, params=params, timeout=30)\n",
    "                        # print(response.url)\n",
    "                        try:\n",
    "                            results = response.json()\n",
    "                        except (AttributeError, ValueError):\n",
    "                            # Log errors?\n",
    "                            pass\n",
    "                        else:\n",
    "                            records = results['response']['zone'][0]['records']\n",
    "                            self.process_results(records, pbar)\n",
    "                            # pbar.update(len(records['article']))"
   ]
  },
  {
   "cell_type": "code",
   "execution_count": null,
   "metadata": {},
   "outputs": [],
   "source": [
    "# All the UI stuff\n",
    "\n",
    "# Somewhere to put the results\n",
    "out = widgets.Output(layout=widgets.Layout(padding='40px'))\n",
    "\n",
    "api_key = widgets.Text(\n",
    "    placeholder='Enter your Trove API key',\n",
    "    description='API key:',\n",
    "    disabled=False\n",
    ")\n",
    "\n",
    "query_url = widgets.Text(\n",
    "    placeholder='Enter the url of your search',\n",
    "    description='Query url:',\n",
    "    disabled=False,\n",
    "    layout=widgets.Layout(width='100%')\n",
    ")\n",
    "\n",
    "text = widgets.Checkbox(\n",
    "    value=False,\n",
    "    description='Save full text',\n",
    "    disabled=False\n",
    ")\n",
    "\n",
    "pdf = widgets.Checkbox(\n",
    "    value=False,\n",
    "    description='Save PDFs (this can be slow)',\n",
    "    disabled=False\n",
    ")\n",
    "\n",
    "image = widgets.Checkbox(\n",
    "    value=False,\n",
    "    description='Save articles as images',\n",
    "    disabled=False\n",
    ")\n",
    "\n",
    "start_button = widgets.Button(\n",
    "        description='Start harvest',\n",
    "        disabled=False,\n",
    "        button_style='primary', # 'success', 'info', 'warning', 'danger' or ''\n",
    "        tooltip='Start harvest',\n",
    "        icon=''\n",
    "    )\n",
    "\n",
    "start_button.on_click(nb_prepare_harvest)"
   ]
  },
  {
   "cell_type": "markdown",
   "metadata": {},
   "source": [
    "## Enter your Trove API key\n",
    "\n",
    "The harvester gets its data from the Trove API. To use the API [you need a key](http://help.nla.gov.au/trove/building-with-trove/api) — the process is quick, painless, and free. Once you have a key, paste it in below."
   ]
  },
  {
   "cell_type": "code",
   "execution_count": null,
   "metadata": {},
   "outputs": [],
   "source": [
    "display(api_key)"
   ]
  },
  {
   "cell_type": "markdown",
   "metadata": {},
   "source": [
    "## Enter your search query\n",
    "\n",
    "Use the [Trove web interface](https://trove.nla.gov.au/newspaper/) to construct your search. Remember that the harvester will get **all** of the matched results, not just the first 2,000 you see in the web interface. Once you're happy with your search, just copy the url and paste it below."
   ]
  },
  {
   "cell_type": "code",
   "execution_count": null,
   "metadata": {},
   "outputs": [],
   "source": [
    "display(query_url)"
   ]
  },
  {
   "cell_type": "markdown",
   "metadata": {},
   "source": [
    "## Set harvest options\n",
    "\n",
    "By default the harvester only saves the metadata (date, page, title, newspaper etc) from the search results. If you want to save the full text content of each article, just check the `Text` box. You can also save PDF copies of every article by checking the `PDF` option, but be warned that this will slow down your harvest and generate large download files. If you want to save PDFs from large harvests, you're probably better off installing and running the harvester on your own computer."
   ]
  },
  {
   "cell_type": "code",
   "execution_count": null,
   "metadata": {},
   "outputs": [],
   "source": [
    "display(text)\n",
    "display(pdf)\n",
    "display(image)"
   ]
  },
  {
   "cell_type": "code",
   "execution_count": null,
   "metadata": {},
   "outputs": [],
   "source": [
    "display(start_button)\n",
    "display(out)"
   ]
  },
  {
   "cell_type": "markdown",
   "metadata": {},
   "source": [
    "Once your harvest is complete a link will appear to download the results as a single, zipped file. See [this notebook](Using-TroveHarvester-to-get-newspaper-articles-in-bulk.ipynb#Harvest-results) for more information about the contents and format of the results folder.\n",
    "\n",
    "You can also start to explore your results [using this notebook](Exploring-your-TroveHarvester-data.ipynb)."
   ]
  },
  {
   "cell_type": "markdown",
   "metadata": {},
   "source": [
    "----\n",
    "\n",
    "<small>Created by [Tim Sherratt](https://timsherratt.org) ([@wragge](https://twitter.com/wragge)) as part of the [GLAM Workbench project](https://github.com/glam-workbench/).</small>\n",
    "\n",
    "<small>If you think this project is worthwhile you can [support it on Patreon](https://www.patreon.com/timsherratt).</small>"
   ]
  }
 ],
 "metadata": {
  "kernelspec": {
   "display_name": "Python 3",
   "language": "python",
   "name": "python3"
  },
  "language_info": {
   "codemirror_mode": {
    "name": "ipython",
    "version": 3
   },
   "file_extension": ".py",
   "mimetype": "text/x-python",
   "name": "python",
   "nbconvert_exporter": "python",
   "pygments_lexer": "ipython3",
   "version": "3.7.7"
  }
 },
 "nbformat": 4,
 "nbformat_minor": 4
}
