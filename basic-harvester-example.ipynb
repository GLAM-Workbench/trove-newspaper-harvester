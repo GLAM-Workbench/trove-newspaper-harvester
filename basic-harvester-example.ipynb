{
 "cells": [
  {
   "cell_type": "markdown",
   "id": "c173e9de-8e99-4c85-8032-428799853df6",
   "metadata": {
    "editable": true,
    "slideshow": {
     "slide_type": ""
    },
    "tags": []
   },
   "source": [
    "# Using the Trove Harvester as a Python package\n",
    "\n",
    "This notebook uses the [trove-newspaper-harvester](https://wragge.github.io/trove-newspaper-harvester/) Python package to harvest the complete results of a search in Trove's digitised newspapers or gazettes. The default settings will save both the article metadata and all of the OCRd text.\n",
    "\n",
    "If you want to run your own harvest:\n",
    "\n",
    "- copy and paste your Trove API key where indicated below\n",
    "- construct your search query in Trove then copy and paste the query url where indicated below\n",
    "- adjust harvest options if desired\n",
    "- from the 'Run' menu select 'Run All Cells'\n",
    "\n",
    "Once the harvest has finished a download link will be displayed. You can also view the results of the harvest in the `data` directory. The GLAM Workbench includes detailed information about [the files included in each harvest](https://glam-workbench.net/trove-harvester/#your-harvested-data)."
   ]
  },
  {
   "cell_type": "code",
   "execution_count": null,
   "id": "5f3e5241-0a0a-4d68-995c-3e3e4edc6ff6",
   "metadata": {
    "editable": true,
    "slideshow": {
     "slide_type": ""
    },
    "tags": []
   },
   "outputs": [],
   "source": [
    "import os\n",
    "import shutil\n",
    "from pathlib import Path\n",
    "\n",
    "from dotenv import load_dotenv\n",
    "from IPython.display import HTML, display\n",
    "from trove_newspaper_harvester.core import Harvester, get_harvest, prepare_query\n",
    "\n",
    "load_dotenv()"
   ]
  },
  {
   "cell_type": "markdown",
   "id": "432aa0db-da09-4a81-9e3e-a60cf0705c96",
   "metadata": {
    "editable": true,
    "slideshow": {
     "slide_type": ""
    },
    "tags": []
   },
   "source": [
    "## Set your Trove API key"
   ]
  },
  {
   "cell_type": "markdown",
   "id": "df04ef74-87e1-45f4-a78a-2ee6a4c8072b",
   "metadata": {
    "editable": true,
    "slideshow": {
     "slide_type": ""
    },
    "tags": []
   },
   "source": [
    "You need to have a Trove API key to use the harvester. For non-commercial projects, you just fill out a simple form and your API key is generated instantly. Follow [the instructions in the Trove Help](https://trove.nla.gov.au/about/create-something/using-api) to obtain your own Trove API Key.\n",
    "\n",
    "Once you've created a key, you can access it at any time on the 'For developers' tab of your Trove user profile.\n",
    "\n",
    "Copy your API key now, and paste it in the cell below, between the quotes. "
   ]
  },
  {
   "cell_type": "code",
   "execution_count": null,
   "id": "327953d6-cf5f-4d5c-8798-98c5eaf24f91",
   "metadata": {
    "editable": true,
    "slideshow": {
     "slide_type": ""
    },
    "tags": []
   },
   "outputs": [],
   "source": [
    "# Insert your Trove API key\n",
    "API_KEY = \"YOUR API KEY\"\n",
    "\n",
    "# Ignore this -- it will get and api key value from environment variables if available\n",
    "if os.getenv(\"TROVE_API_KEY\"):\n",
    "    API_KEY = os.getenv(\"TROVE_API_KEY\")"
   ]
  },
  {
   "cell_type": "markdown",
   "id": "b9c5e399-2615-4f3b-93d1-7f21ea672705",
   "metadata": {
    "editable": true,
    "slideshow": {
     "slide_type": ""
    },
    "tags": []
   },
   "source": [
    "## Set your search query"
   ]
  },
  {
   "cell_type": "markdown",
   "id": "b0b7acbe-f8c5-4dcf-8e9f-6a9812d76efb",
   "metadata": {
    "editable": true,
    "slideshow": {
     "slide_type": ""
    },
    "tags": []
   },
   "source": [
    "The Trove Harvester translates queries from the Trove web interface into something that the API can understand. So all you need to do is construct your query using the web interface. Once you're happy with the results you're getting just copy the url and paste it between the quotes in the cell below."
   ]
  },
  {
   "cell_type": "code",
   "execution_count": null,
   "id": "5804834a-c9ed-4e2c-902c-c738734c4b2f",
   "metadata": {
    "editable": true,
    "slideshow": {
     "slide_type": ""
    },
    "tags": []
   },
   "outputs": [],
   "source": [
    "query = \"https://trove.nla.gov.au/search/category/newspapers?keyword=%22octopus%20intelligence%22\""
   ]
  },
  {
   "cell_type": "markdown",
   "id": "61c05c12-1936-45ff-aaf1-b2b48c91481a",
   "metadata": {
    "editable": true,
    "slideshow": {
     "slide_type": ""
    },
    "tags": []
   },
   "source": [
    "## Adjust options if necessary\n",
    "\n",
    "The Newspaper Harvester accepts a number of options, these include:\n",
    "\n",
    "- `text`: save articles as text files, True or False\n",
    "- `pdf`: save articles as PDFs, True or False\n",
    "- `image`: save articles as images, True or False\n",
    "- `config_file`: path to a config file generated by a previous harvest\n",
    "- `data_dir`: directory for harvests\n",
    "- `harvest_dir`: directory for this harvest\n",
    "- `include_linebreaks`: keep linebreaks in text files, True or False\n",
    "\n",
    "The cell below sets some default values for these options. By default, your harvest will include the OCRd text of all articles and will be saved in the `data` directory in a sub-directory named used the current date and time. Edit the cell below if you want to change this."
   ]
  },
  {
   "cell_type": "code",
   "execution_count": null,
   "id": "75537fc6-c394-42d9-8078-fa1cc20091b8",
   "metadata": {
    "editable": true,
    "slideshow": {
     "slide_type": ""
    },
    "tags": []
   },
   "outputs": [],
   "source": [
    "# What to save\n",
    "# Setting pdf or image to True will greatly increase the harvest time\n",
    "text = True  # Include the OCRd text\n",
    "pdf = False\n",
    "image = False\n",
    "\n",
    "# Use an existing config file (from a previous harvest)\n",
    "# set to the path of the config file\n",
    "config_file = None\n",
    "\n",
    "# Where to save the results\n",
    "# data_dir contains multiple harvests\n",
    "data_dir = \"data\"\n",
    "# harvest_dir contains a single harvest\n",
    "harvest_dir = None\n",
    "\n",
    "# Text options\n",
    "# line breaks are stripped unless this is set to True\n",
    "include_linebreaks = False"
   ]
  },
  {
   "cell_type": "markdown",
   "id": "e64e72eb-bc7f-48ed-8add-255d07080ae1",
   "metadata": {
    "editable": true,
    "slideshow": {
     "slide_type": ""
    },
    "tags": []
   },
   "source": [
    "## Set up and run the Harvester\n",
    "\n",
    "You shouldn't need to change anthing in the cells below."
   ]
  },
  {
   "cell_type": "code",
   "execution_count": null,
   "id": "6d2d9b40-efd3-4ac3-8848-632c4fdeb767",
   "metadata": {
    "editable": true,
    "slideshow": {
     "slide_type": ""
    },
    "tags": []
   },
   "outputs": [],
   "source": [
    "params = prepare_query(query=query)\n",
    "harvester = Harvester(\n",
    "    query_params=params,\n",
    "    key=API_KEY,\n",
    "    data_dir=data_dir,\n",
    "    harvest_dir=harvest_dir,\n",
    "    config_file=config_file,\n",
    "    text=text,\n",
    "    pdf=pdf,\n",
    "    image=image,\n",
    "    include_linebreaks=include_linebreaks,\n",
    ")"
   ]
  },
  {
   "cell_type": "markdown",
   "id": "9cd58807-5bec-4523-95d0-0ab720204ac0",
   "metadata": {
    "editable": true,
    "slideshow": {
     "slide_type": ""
    },
    "tags": []
   },
   "source": [
    "If for some reason the harvest stops before it is finished (Trove goes down or your internet fails), click on the cell below and select 'Run Selected Cell and All Below' from the 'Run' menu. This will pick the harvest up from where it stopped."
   ]
  },
  {
   "cell_type": "code",
   "execution_count": null,
   "id": "844e6f9c-d011-4504-9be1-f97408f4dd13",
   "metadata": {
    "editable": true,
    "slideshow": {
     "slide_type": ""
    },
    "tags": []
   },
   "outputs": [],
   "source": [
    "harvester.harvest()"
   ]
  },
  {
   "cell_type": "code",
   "execution_count": null,
   "id": "deb9262b-686e-484e-8288-e9248234388c",
   "metadata": {
    "editable": true,
    "slideshow": {
     "slide_type": ""
    },
    "tags": []
   },
   "outputs": [],
   "source": [
    "harvest = get_harvest()\n",
    "harvester.save_csv()\n",
    "Path(harvest, \"results.ndjson\").unlink()\n",
    "harvester.remove_ndjson_from_crate()\n",
    "shutil.make_archive(harvest, \"zip\", harvest)\n",
    "display(\n",
    "    HTML(\n",
    "        f'<b>Download results</b>: <a href=\"{str(harvest)}.zip\" download>{str(harvest)}.zip</a>'\n",
    "    )\n",
    ")"
   ]
  },
  {
   "cell_type": "markdown",
   "id": "6997281f-ed22-48e2-b535-4f3e51e1915e",
   "metadata": {
    "editable": true,
    "slideshow": {
     "slide_type": ""
    },
    "tags": []
   },
   "source": [
    "## Next steps\n",
    "\n",
    "- for some tools or questions you'll probably want to create slices or filtered subsets of the complete harvest – see [Reshaping your newspaper harvest](reshaping-harvests.ipynb) for some examples\n",
    "- start exploring your results by examining [the metadata](Exploring-your-TroveHarvester-data.ipynb) and [the OCRd text](Explore-harvested-text-files.ipynb) (these notebooks are incomplete, but should give you an idea of the possibilities)"
   ]
  },
  {
   "cell_type": "markdown",
   "id": "b3881924-052d-4565-994f-2fba73f22067",
   "metadata": {
    "editable": true,
    "slideshow": {
     "slide_type": ""
    },
    "tags": []
   },
   "source": [
    "----\n",
    "\n",
    "Created by [Tim Sherratt](https://timsherratt.au) for the [GLAM Workbench](https://glam-workbench.net/).  \n",
    "\n"
   ]
  }
 ],
 "metadata": {
  "kernelspec": {
   "display_name": "Python 3 (ipykernel)",
   "language": "python",
   "name": "python3"
  },
  "language_info": {
   "codemirror_mode": {
    "name": "ipython",
    "version": 3
   },
   "file_extension": ".py",
   "mimetype": "text/x-python",
   "name": "python",
   "nbconvert_exporter": "python",
   "pygments_lexer": "ipython3",
   "version": "3.10.12"
  },
  "rocrate": {
   "author": [
    {
     "name": "Sherratt, Tim",
     "orcid": "https://orcid.org/0000-0001-7956-4498"
    }
   ],
   "category": "harvesting",
   "description": "This notebook uses the [trove-newspaper-harvester](https://wragge.github.io/trove-newspaper-harvester/) Python package to harvest the complete results of a search in Trove's digitised newspapers or gazettes. The default settings will save both the article metadata and all of the OCRd text.",
   "mainEntityOfPage": "https://glam-workbench.net/trove-harvester/basic-harvester-example/",
   "name": "Using the Trove Harvester as a Python package",
   "position": 2
  }
 },
 "nbformat": 4,
 "nbformat_minor": 5
}
