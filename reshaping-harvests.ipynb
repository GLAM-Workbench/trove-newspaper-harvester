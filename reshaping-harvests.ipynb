{
 "cells": [
  {
   "cell_type": "markdown",
   "id": "545eb875-2bca-4084-bb2d-3a0f6f16c53d",
   "metadata": {
    "editable": true,
    "slideshow": {
     "slide_type": ""
    },
    "tags": []
   },
   "source": [
    "# Reshaping your newspaper harvest\n",
    "\n",
    "The Trove Newspaper Harvester downloads the OCRd text of newspaper articles as individual text files – one file for each article. That's great for exploring the content of individual articles in depth, but sometimes you might want to zoom out and aggregate the files into larger chunks. For example, if you're interested in how language changes over time, you might what to create a separate corpus for each year in the results set. Or perhaps you want to examine differences in the way particular newspapers talk about an event by grouping the articles by newspaper. This notebook provides a slice and dice wonder tool for Trove newspaper harvests, enabling you to repackage OCRd text by decade, year, and newspaper title. It saves the results as zip files, concatenated text files, or CSV files with embedded text. These repackaged slices should suit a variety of text analysis tools and questions."
   ]
  },
  {
   "cell_type": "code",
   "execution_count": null,
   "id": "504b1e64-8010-4b35-8ed5-865cfdb722ed",
   "metadata": {
    "editable": true,
    "scrolled": true,
    "slideshow": {
     "slide_type": ""
    },
    "tags": []
   },
   "outputs": [],
   "source": [
    "import os\n",
    "import shutil\n",
    "from pathlib import Path\n",
    "from zipfile import ZIP_DEFLATED\n",
    "from zipfile import Path as ZipPath\n",
    "from zipfile import ZipFile\n",
    "\n",
    "import pandas as pd\n",
    "from dotenv import load_dotenv\n",
    "from natsort import natsorted\n",
    "from trove_newspaper_harvester.core import Harvester, prepare_query\n",
    "\n",
    "load_dotenv()"
   ]
  },
  {
   "cell_type": "markdown",
   "id": "fd7ec4f6-9dd3-410f-b612-eb0a8bf79d5c",
   "metadata": {
    "editable": true,
    "slideshow": {
     "slide_type": ""
    },
    "tags": []
   },
   "source": [
    "## Upload an existing harvest\n",
    "\n",
    "If you want to reshape a dataset downloaded from a previous run of the Trove Newspaper Harvester, upload the zipped dataset file to the `zips` directory:\n",
    "\n",
    "- double click the `zips` folder to open it\n",
    "- click on the upload icon to select your existing dataset\n",
    "\n",
    "Once the file has been uploaded to the `zips` directory, run the cell below to unpack the contents into the `data` directory."
   ]
  },
  {
   "cell_type": "code",
   "execution_count": null,
   "id": "3bdabcc9-51cb-4a61-9a4b-ec6c797631b3",
   "metadata": {
    "editable": true,
    "scrolled": true,
    "slideshow": {
     "slide_type": ""
    },
    "tags": []
   },
   "outputs": [],
   "source": [
    "# Unzip the contents of the `zips` directory and save to the `data` directory\n",
    "for zip in Path(\"zips\").glob(\"*.zip\"):\n",
    "    zip_file = ZipFile(zip)\n",
    "    if ZipPath(zip_file, at=f\"{zip.stem}/\").exists():\n",
    "        zip_file.extractall(\"data\")\n",
    "    else:\n",
    "        output_path = Path(\"data\", zip.stem)\n",
    "        output_path.mkdir(exist_ok=True)\n",
    "        zip_file.extractall(output_path)"
   ]
  },
  {
   "cell_type": "markdown",
   "id": "11c51e17-83d7-49f3-9536-7cf6bc93eb87",
   "metadata": {
    "editable": true,
    "slideshow": {
     "slide_type": ""
    },
    "tags": []
   },
   "source": [
    "## Code for the HarvestSlicer"
   ]
  },
  {
   "cell_type": "code",
   "execution_count": null,
   "id": "1e8f3d20-5c5c-430d-a92a-ba8b01b72876",
   "metadata": {
    "editable": true,
    "slideshow": {
     "slide_type": ""
    },
    "tags": []
   },
   "outputs": [],
   "source": [
    "class HarvestSlicer:\n",
    "    def __init__(self, harvest_id, data_dir=\"data\"):\n",
    "        \"\"\"\n",
    "        Initialise the Slicer with details of the harvest.\n",
    "        \"\"\"\n",
    "        self.harvest_id = harvest_id\n",
    "        self.data_path = Path(data_dir, harvest_id)\n",
    "        self.text_path = Path(self.data_path, \"text\")\n",
    "        self.df = pd.read_csv(Path(self.data_path, \"results.csv\"), low_memory=False)\n",
    "\n",
    "    def get_years(self):\n",
    "        \"\"\"\n",
    "        Get a list of the years in which articles in the current harvest were published.\n",
    "        \"\"\"\n",
    "        years = []\n",
    "        for text_file in self.text_path.glob(\"*.txt\"):\n",
    "            years.append(int(text_file.name[:4]))\n",
    "        return sorted(set(years))\n",
    "\n",
    "    def get_titles(self, year=\"\"):\n",
    "        \"\"\"\n",
    "        Get a list of the newspaper titles in which articles in the current harvest were published.\n",
    "        \"\"\"\n",
    "        titles = []\n",
    "        for text_file in self.text_path.glob(f\"{year}*.txt\"):\n",
    "            titles.append(text_file.name.split(\"-\")[1])\n",
    "        return sorted(set(titles))\n",
    "\n",
    "    def get_top_titles(self, sample_size=10, measure=\"articles\", period=None):\n",
    "        \"\"\"\n",
    "        Get a list of the 'top' titles in which articles in the current harvest were published.\n",
    "        'Top' can be measured by either the number of articles, or number of words.\n",
    "\n",
    "        Parameters:\n",
    "        - sample_size: number of titles to include\n",
    "        - measure: how to determine the ranking, either 'articles' or 'words'\n",
    "        - period: specify a year or decade\n",
    "        \"\"\"\n",
    "        df = self.df.copy()\n",
    "        if period:\n",
    "            df = df.loc[df[\"date\"].str.startswith(str(period))]\n",
    "        if measure == \"articles\":\n",
    "            sample = (\n",
    "                df.groupby(\"newspaper_id\")\n",
    "                .size()\n",
    "                .to_frame()\n",
    "                .reset_index()\n",
    "                .sort_values(0, ascending=False)[:sample_size]\n",
    "            )\n",
    "        elif measure == \"words\":\n",
    "            sample = (\n",
    "                df.groupby(\"newspaper_id\")[\"words\"]\n",
    "                .sum()\n",
    "                .to_frame()\n",
    "                .reset_index()\n",
    "                .sort_values(\"words\", ascending=False)[:sample_size]\n",
    "            )\n",
    "        return sample[\"newspaper_id\"].to_list()\n",
    "\n",
    "    def slice_by_time_title(self, period=None, unit=\"year\", title=None, save_as=\"zip\"):\n",
    "        \"\"\"\n",
    "        Slice the collection of harvested newspaper articles to create a subset using\n",
    "        the supplied parameters.\n",
    "\n",
    "        Parameters:\n",
    "        - period: value of year or decade, eg: \"1950\"\n",
    "        - unit: unit of time, either \"year\" or \"decade\"\n",
    "        - title: newspaper title identifier\n",
    "        - save_as: how to save the slice, either \"zip\" or \"text\"\n",
    "        \"\"\"\n",
    "        if period and title:\n",
    "            glob_pattern = f\"{period}*-{title}-*.txt\"\n",
    "            filters = [unit, str(period), \"title\", str(title)]\n",
    "            output_path = Path(self.data_path, f\"{unit}-title\")\n",
    "        elif period:\n",
    "            glob_pattern = f\"{period}*.txt\"\n",
    "            filters = [unit, str(period)]\n",
    "            output_path = Path(self.data_path, unit)\n",
    "        elif title:\n",
    "            glob_pattern = f\"*-{title}-*.txt\"\n",
    "            filters = [\"title\", str(title)]\n",
    "            output_path = Path(self.data_path, \"title\")\n",
    "        else:\n",
    "            return\n",
    "        output_path.mkdir(exist_ok=True)\n",
    "        # Save into a new zip file\n",
    "        if save_as == \"zip\":\n",
    "            zip_path = Path(output_path, f\"{self.harvest_id}-{'-'.join(filters)}.zip\")\n",
    "            with ZipFile(zip_path, \"w\", ZIP_DEFLATED) as zip_file:\n",
    "                for text_file in self.text_path.glob(glob_pattern):\n",
    "                    zip_file.write(text_file, text_file.name)\n",
    "        # Save as one big concatenated text file\n",
    "        elif save_as == \"text\":\n",
    "            with Path(output_path, f\"{self.harvest_id}-{'-'.join(filters)}.txt\").open(\n",
    "                \"w\"\n",
    "            ) as combined_text:\n",
    "                for text_file in natsorted(self.text_path.glob(glob_pattern)):\n",
    "                    combined_text.write(text_file.read_text())\n",
    "                    combined_text.write(\"\\n\\n\")\n",
    "\n",
    "    def slice_titles(self, save_as=\"zip\"):\n",
    "        \"\"\"\n",
    "        Create slices for each newspaper title.\n",
    "\n",
    "        Parameters:\n",
    "        - save_as: how to save the slice, either \"zip\" or \"text\"\n",
    "        \"\"\"\n",
    "        titles = self.get_titles()\n",
    "        for title in titles:\n",
    "            self.slice_by_time_title(title=title, save_as=save_as)\n",
    "\n",
    "    def slice_top_titles(self, measure=\"articles\", sample_size=10, save_as=\"zip\"):\n",
    "        \"\"\"\n",
    "        Create slices for 'top' newspaper titles.\n",
    "        'Top' can be measured by either the number of articles, or number of words.\n",
    "\n",
    "        Parameters:\n",
    "        - sample_size: number of titles to include\n",
    "        - measure: how to determine the ranking, either 'articles' or 'words'\n",
    "        - save_as: how to save the slice, either \"zip\" or \"text\"\n",
    "        \"\"\"\n",
    "        top_titles = self.get_top_titles(measure=measure, sample_size=sample_size)\n",
    "        for title in top_titles:\n",
    "            self.slice_by_time_title(title=title, save_as=save_as)\n",
    "\n",
    "    def slice_years(self, save_as=\"zip\"):\n",
    "        \"\"\"\n",
    "        Create slices by year.\n",
    "\n",
    "        Parameters:\n",
    "        - save_as: how to save the slice, either \"zip\" or \"text\"\n",
    "        \"\"\"\n",
    "        years = self.get_years()\n",
    "        for year in years:\n",
    "            self.slice_by_time_title(period=year, save_as=save_as)\n",
    "\n",
    "    def slice_decades(self, save_as=\"zip\"):\n",
    "        \"\"\"\n",
    "        Create slices by decade.\n",
    "\n",
    "        Parameters:\n",
    "        - save_as: how to save the slice, either \"zip\" or \"text\"\n",
    "        \"\"\"\n",
    "        years = self.get_years()\n",
    "        decades = sorted(set([str(y)[:3] for y in years]))\n",
    "        for decade in decades:\n",
    "            self.slice_by_time_title(period=decade, unit=\"decade\", save_as=save_as)\n",
    "\n",
    "    def slice_years_titles(self, save_as=\"zip\"):\n",
    "        \"\"\"\n",
    "        Create slices for each combination of newspaper titles and year.\n",
    "\n",
    "        Parameters:\n",
    "        - save_as: how to save the slice, either \"zip\" or \"text\"\n",
    "        \"\"\"\n",
    "        years = self.get_years()\n",
    "        for year in years:\n",
    "            titles = self.get_titles(year=year)\n",
    "            for title in titles:\n",
    "                self.slice_by_time_title(period=year, title=title, save_as=save_as)\n",
    "\n",
    "    def slice_years_top_titles(self, measure=\"articles\", sample_size=10, save_as=\"zip\"):\n",
    "        \"\"\"\n",
    "        Create slices for each combination of year and 'top' newspaper titles.\n",
    "        'Top' can be measured by either the number of articles, or number of words.\n",
    "\n",
    "        Parameters:\n",
    "        - sample_size: number of titles to include\n",
    "        - measure: how to determine the ranking, either 'articles' or 'words'\n",
    "        - save_as: how to save the slice, either \"zip\" or \"text\"\n",
    "        \"\"\"\n",
    "        years = self.get_years()\n",
    "        for year in years:\n",
    "            titles = self.get_top_titles(\n",
    "                measure=measure, sample_size=sample_size, period=year\n",
    "            )\n",
    "            for title in titles:\n",
    "                self.slice_by_time_title(period=year, title=title, save_as=save_as)"
   ]
  },
  {
   "cell_type": "markdown",
   "id": "715a663d-a3d5-4eaa-b2ff-7a55cbcddc7c",
   "metadata": {
    "editable": true,
    "slideshow": {
     "slide_type": ""
    },
    "tags": []
   },
   "source": [
    "## Using the Harvest Slicer\n",
    "\n",
    "To create a new Harvest Slicer run:\n",
    "\n",
    "``` python\n",
    "slicer = HarvestSlicer(\"[Your Harvest ID]\")\n",
    "```\n",
    "\n",
    "Substitute your harvest's identifier for `[Your Harvest ID]`. The harvest identifier is the name of the directory containing your harvest. This will usually be a string of numbers representing the date/time when the harvest was started. For example:\n",
    "\n",
    "``` python\n",
    "slicer = HarvestSlicer(\"20240522025457\")\n",
    "```\n",
    "\n",
    "By default, harvests are saved in the `data` directory. If your harvest is in a different directory, you need to supply a `data_dir` parameter set to the directory name. For example:\n",
    "\n",
    "``` python\n",
    "slicer = HarvestSlicer(\"20240522025457\", data_dir=\"myharvests\")\n",
    "```\n",
    "\n",
    "Enter your harvest id below and run the cell to create a Harvest Slicer."
   ]
  },
  {
   "cell_type": "code",
   "execution_count": null,
   "id": "76cef95d-d0fa-4cc5-af4f-50fd44913137",
   "metadata": {
    "editable": true,
    "slideshow": {
     "slide_type": ""
    },
    "tags": [
     "nbval-skip"
    ]
   },
   "outputs": [],
   "source": [
    "# Substitute your harvest identifier below\n",
    "slicer = HarvestSlicer(\"[Your Harvest ID]\")"
   ]
  },
  {
   "cell_type": "markdown",
   "id": "a363d516-1ac9-4c6b-829a-aa014bc1a247",
   "metadata": {
    "editable": true,
    "slideshow": {
     "slide_type": ""
    },
    "tags": []
   },
   "source": [
    "### Slicing by decade or year\n",
    "\n",
    "You can create slices of harvested articles by year or decade. These slices can be saved as either a zip file containing the individual text files, or as one big text file containing the contents of each article  – one article per line.\n",
    "\n",
    "The slices will be saved in a directories named `year` or `decade`. Each slice is named using the harvest identifier and the year or decade. For example, if you sliced the `20240522025457` harvest by year, you'd end up with a `year` directory cont|aining files like `20240522025457-year-1950.txt`.\n",
    "\n",
    "Slice by year and save the results as zip files (the default):"
   ]
  },
  {
   "cell_type": "code",
   "execution_count": null,
   "id": "a05cc61d-f10c-4de4-847b-89ee7cdc9e26",
   "metadata": {
    "editable": true,
    "slideshow": {
     "slide_type": ""
    },
    "tags": [
     "nbval-skip"
    ]
   },
   "outputs": [],
   "source": [
    "slicer.slice_years()"
   ]
  },
  {
   "cell_type": "markdown",
   "id": "7d240782-1dcf-4ffa-a199-0f73900e9e65",
   "metadata": {
    "editable": true,
    "slideshow": {
     "slide_type": ""
    },
    "tags": []
   },
   "source": [
    "Slice by year and save the results as concatenated text files:"
   ]
  },
  {
   "cell_type": "code",
   "execution_count": null,
   "id": "eb710350",
   "metadata": {
    "editable": true,
    "slideshow": {
     "slide_type": ""
    },
    "tags": [
     "nbval-skip"
    ]
   },
   "outputs": [],
   "source": [
    "slicer.slice_years(save_as=\"text\")"
   ]
  },
  {
   "cell_type": "markdown",
   "id": "bc9be0f6-e5eb-4f10-97dc-0c670ffeaad8",
   "metadata": {
    "editable": true,
    "slideshow": {
     "slide_type": ""
    },
    "tags": []
   },
   "source": [
    "Slice by decade and save the results as zip files (the default):"
   ]
  },
  {
   "cell_type": "code",
   "execution_count": null,
   "id": "fc2251f6-508e-4965-929e-eabf045890b4",
   "metadata": {
    "editable": true,
    "slideshow": {
     "slide_type": ""
    },
    "tags": [
     "nbval-skip"
    ]
   },
   "outputs": [],
   "source": [
    "slicer.slice_decades()"
   ]
  },
  {
   "cell_type": "markdown",
   "id": "bf000a09-165f-4764-98e8-a67d83c012b1",
   "metadata": {
    "editable": true,
    "slideshow": {
     "slide_type": ""
    },
    "tags": []
   },
   "source": [
    "Slice by decade and save the results as concatenated text files:"
   ]
  },
  {
   "cell_type": "code",
   "execution_count": null,
   "id": "bbed6f44",
   "metadata": {
    "editable": true,
    "slideshow": {
     "slide_type": ""
    },
    "tags": [
     "nbval-skip"
    ]
   },
   "outputs": [],
   "source": [
    "slicer.slice_decades(save_as=\"text\")"
   ]
  },
  {
   "cell_type": "markdown",
   "id": "e09a9a22-2580-43b1-8b7e-d81821fe376d",
   "metadata": {
    "editable": true,
    "slideshow": {
     "slide_type": ""
    },
    "tags": []
   },
   "source": [
    "### Slice by newspaper\n",
    "\n",
    "You can create slices of harvested articles according to the newspaper in which they were published. These slices can be saved as either a zip file containing the individual text files, or as one big text file containing the contents of each article  – one article per line.\n",
    "\n",
    "There are close to 2,000 different newspapers in Trove. To limit the number of slices you can choose to only save articles from the 'top' newspapers in the dataset. Top is measured by looking at either the total number of articles, or the total number of words in articles. You can choose how many newspapers in the ranked 'top' list to include.\n",
    "\n",
    "The slices will be saved in a directory named `title`. Each slice is named using the harvest identifier and the newspaper identifier. For example, if you sliced the `20240522025457` harvest by title, you'd end up with a `title` directory containing files like `20240522025457-title-11.txt` (`11` is Trove's identifier of the *Canberra Times*).\n",
    "\n",
    "Slice by newspaper title and save the results as zip files (the default):"
   ]
  },
  {
   "cell_type": "code",
   "execution_count": null,
   "id": "9956ca25-b78d-4e9b-97a4-b584358caab4",
   "metadata": {
    "editable": true,
    "slideshow": {
     "slide_type": ""
    },
    "tags": [
     "nbval-skip"
    ]
   },
   "outputs": [],
   "source": [
    "slicer.slice_titles()"
   ]
  },
  {
   "cell_type": "markdown",
   "id": "6d137cf5-90ce-4e5b-9760-0b24cdf170ca",
   "metadata": {
    "editable": true,
    "slideshow": {
     "slide_type": ""
    },
    "tags": []
   },
   "source": [
    "Slice by title and save the results as concatenated text files:"
   ]
  },
  {
   "cell_type": "code",
   "execution_count": null,
   "id": "fae9b5ff-b03b-42f5-8ddb-43c249d39098",
   "metadata": {
    "editable": true,
    "slideshow": {
     "slide_type": ""
    },
    "tags": [
     "nbval-skip"
    ]
   },
   "outputs": [],
   "source": [
    "slicer.slice_titles(save_as=\"text\")"
   ]
  },
  {
   "cell_type": "markdown",
   "id": "66f8b990-6d22-44ee-8a77-165467e3cb72",
   "metadata": {
    "editable": true,
    "slideshow": {
     "slide_type": ""
    },
    "tags": []
   },
   "source": [
    "Slice by newspaper title and save results from the 10 newspapers with the most articles as zip files (the default settings):"
   ]
  },
  {
   "cell_type": "code",
   "execution_count": null,
   "id": "d91bfe5c",
   "metadata": {
    "editable": true,
    "slideshow": {
     "slide_type": ""
    },
    "tags": [
     "nbval-skip"
    ]
   },
   "outputs": [],
   "source": [
    "slicer.slice_top_titles()"
   ]
  },
  {
   "cell_type": "markdown",
   "id": "13b6cbc6-aabd-4e0e-b9b5-acc10f4b91df",
   "metadata": {
    "editable": true,
    "slideshow": {
     "slide_type": ""
    },
    "tags": []
   },
   "source": [
    "Slice by newspaper title and save results from the 20 newspapers with the most words as concatenated text files:"
   ]
  },
  {
   "cell_type": "code",
   "execution_count": null,
   "id": "e0750eb4",
   "metadata": {
    "editable": true,
    "slideshow": {
     "slide_type": ""
    },
    "tags": [
     "nbval-skip"
    ]
   },
   "outputs": [],
   "source": [
    "slicer.slice_top_titles(measure=\"words\", sample_size=20, save_as=\"text\")"
   ]
  },
  {
   "cell_type": "markdown",
   "id": "782059bc-36e7-47ca-b125-8f9fd9e46b41",
   "metadata": {
    "editable": true,
    "slideshow": {
     "slide_type": ""
    },
    "tags": []
   },
   "source": [
    "### Slice by both year and newspaper\n",
    "\n",
    "You can create slices of harvested articles from each newspaper, published in each year. This means there'll be a slice for each combination of title and year. These slices can be saved as either a zip file containing the individual text files, or as one big text file containing the contents of each article  – one article per line.\n",
    "\n",
    "To limit the number of slices you can choose to only save articles from the 'top' newspapers in the dataset. Top is measured by looking at either the total number of articles, or the total number of words in articles. You can choose how many newspapers in the ranked 'top' list to include.\n",
    "\n",
    "The slices will be saved in a directory named `year-title`. Each slice is named using the harvest identifier, the year, and the newspaper identifier. For example, if you sliced the `20240522025457` harvest by year and title, you'd end up with a `year-title` directory containing files like `20240522025457-year-1950-title-11.txt` (`11` is Trove's identifier of the *Canberra Times*).\n",
    "\n",
    "Slice by year and newspaper title and save the results as zip files (the default):"
   ]
  },
  {
   "cell_type": "code",
   "execution_count": null,
   "id": "6dea8630-4a43-4f59-9cdd-bc18110469f9",
   "metadata": {
    "editable": true,
    "slideshow": {
     "slide_type": ""
    },
    "tags": [
     "nbval-skip"
    ]
   },
   "outputs": [],
   "source": [
    "slicer.slice_years_titles()"
   ]
  },
  {
   "cell_type": "markdown",
   "id": "3bab135a-cf0c-4998-889f-fce2ce552926",
   "metadata": {
    "editable": true,
    "slideshow": {
     "slide_type": ""
    },
    "tags": []
   },
   "source": [
    "Slice by title and save the results as concatenated text files:"
   ]
  },
  {
   "cell_type": "code",
   "execution_count": null,
   "id": "2824509f",
   "metadata": {
    "editable": true,
    "slideshow": {
     "slide_type": ""
    },
    "tags": [
     "nbval-skip"
    ]
   },
   "outputs": [],
   "source": [
    "slicer.slice_years_titles(save_as=\"text\")"
   ]
  },
  {
   "cell_type": "markdown",
   "id": "193dcbb3-a466-4126-810c-4214479822c4",
   "metadata": {
    "editable": true,
    "slideshow": {
     "slide_type": ""
    },
    "tags": []
   },
   "source": [
    "Slice by year and newspaper title and save results from the 10 newspapers with the most articles as zip files (the default settings):"
   ]
  },
  {
   "cell_type": "code",
   "execution_count": null,
   "id": "16261e78",
   "metadata": {
    "editable": true,
    "slideshow": {
     "slide_type": ""
    },
    "tags": [
     "nbval-skip"
    ]
   },
   "outputs": [],
   "source": [
    "slicer.slice_years_top_titles()"
   ]
  },
  {
   "cell_type": "markdown",
   "id": "36790703-e10e-4c5a-86c5-f01068c6ecb2",
   "metadata": {
    "editable": true,
    "slideshow": {
     "slide_type": ""
    },
    "tags": []
   },
   "source": [
    "Slice by year and newspaper title and save results from the 20 newspapers with the most words as concatenated text files:"
   ]
  },
  {
   "cell_type": "code",
   "execution_count": null,
   "id": "c40efc6f",
   "metadata": {
    "editable": true,
    "slideshow": {
     "slide_type": ""
    },
    "tags": [
     "nbval-skip"
    ]
   },
   "outputs": [],
   "source": [
    "slicer.slice_years_top_titles(measure=\"words\", sample_size=20, save_as=\"text\")"
   ]
  },
  {
   "cell_type": "markdown",
   "id": "cbbd6d26-649b-40c5-a70c-d8a7af11c7f4",
   "metadata": {
    "editable": true,
    "slideshow": {
     "slide_type": ""
    },
    "tags": []
   },
   "source": [
    "## Create a CSV file with a subset of results\n",
    "\n",
    "The `HarvestSlicer` creates new collections of OCRd text. For some purposes it might be more useful to create a subset of the harvested metadata in the `results.csv` file, adding the OCRd text into new CSV file.\n",
    "\n",
    "The `filter_results()` function creates a new CSV file with a subset of the original results, filtering by year and/or newspaper title. By default, it will also add the OCRd text from each article to a new `full_text` column, and filter the columns in the dataset to include only `title`, `date`, `page`, `newspaper_title`, `url`, and `full_text`. Both these defaults can be changed.\n",
    "\n",
    "The resulting CSV files are saved in the harvest directory. For example, a dataset that was filtered to include results from 1950 published in the *Canberra Times* (id is '11') would be saved as: `filtered-results-year-1950-title-11.csv`."
   ]
  },
  {
   "cell_type": "code",
   "execution_count": null,
   "id": "b69bfb81-e4eb-4136-b8d2-4618a008ac4f",
   "metadata": {
    "editable": true,
    "slideshow": {
     "slide_type": ""
    },
    "tags": []
   },
   "outputs": [],
   "source": [
    "def filter_results(\n",
    "    harvest_id,\n",
    "    data_dir=\"data\",\n",
    "    year=None,\n",
    "    title=None,\n",
    "    add_text=True,\n",
    "    fields=[\"title\", \"date\", \"page\", \"newspaper_title\", \"url\"],\n",
    "):\n",
    "    \"\"\"\n",
    "    Filter an existing results set by year and/or title, adding the OCRd text of each\n",
    "    individual article to a new `full_text` column.\n",
    "\n",
    "    Parameters:\n",
    "    - harvest_id: identifier of the harvest to filter\n",
    "    - data_dir: location of the harvest (default is 'data')\n",
    "    - year: eg '1950'\n",
    "    - title: Trove newspaper title identifier, eg '11'\n",
    "    - add_text: add OCRd text to CSV (default is True)\n",
    "    - fields: list of fields to include in the resulting CSV\n",
    "\n",
    "    Result:\n",
    "    - saves the results as a CSV file\n",
    "    \"\"\"\n",
    "    data_path = Path(data_dir, harvest_id)\n",
    "    df = pd.read_csv(Path(data_path, \"results.csv\"), low_memory=False)\n",
    "    if year and title:\n",
    "        filtered_df = df.copy().loc[\n",
    "            (df[\"date\"].str.startswith(str(year))) & (df[\"newspaper_id\"] == int(title))\n",
    "        ]\n",
    "        filters = [\"year\", str(year), \"title\", str(title)]\n",
    "    elif year:\n",
    "        filtered_df = df.copy().loc[df[\"date\"].str.startswith(str(year))]\n",
    "        filters = [\"year\", str(year)]\n",
    "    elif title:\n",
    "        filtered_df = df.copy().loc[df[\"newspaper_id\"] == int(title)]\n",
    "        filters = [\"title\", str(title)]\n",
    "    else:\n",
    "        filtered_df = df.copy()\n",
    "        filters = [\"all\"]\n",
    "    if add_text:\n",
    "        filtered_df[\"full_text\"] = filtered_df[\"text\"].apply(\n",
    "            lambda x: Path(data_path, x).read_text()\n",
    "        )\n",
    "        fields.append(\"full_text\")\n",
    "        filters.append(\"text\")\n",
    "    filtered_df[fields].to_csv(\n",
    "        Path(data_path, f\"filtered-results-{'-'.join(filters)}.csv\"), index=False\n",
    "    )"
   ]
  },
  {
   "cell_type": "markdown",
   "id": "874510b1-9e89-4e8b-acbb-1d92f7ae623b",
   "metadata": {
    "editable": true,
    "slideshow": {
     "slide_type": ""
    },
    "tags": []
   },
   "source": [
    "Create a filtered results set containing articles published in 1950:"
   ]
  },
  {
   "cell_type": "code",
   "execution_count": null,
   "id": "97c90b1a-f8cf-4479-91f2-e56a6612f64e",
   "metadata": {
    "editable": true,
    "slideshow": {
     "slide_type": ""
    },
    "tags": [
     "nbval-skip"
    ]
   },
   "outputs": [],
   "source": [
    "# Insert your harvest identifier between the quotes\n",
    "filter_results(\"[Your harvest id]\", year=1950)"
   ]
  },
  {
   "cell_type": "markdown",
   "id": "e9c17300-9a7a-47fc-8186-bd5b492b0a6e",
   "metadata": {
    "editable": true,
    "slideshow": {
     "slide_type": ""
    },
    "tags": []
   },
   "source": [
    "Create a filtered results set containing articles published in the *Canberra Times*:"
   ]
  },
  {
   "cell_type": "code",
   "execution_count": null,
   "id": "b23af8ee-8b77-451f-9fea-9786fc3ffdab",
   "metadata": {
    "editable": true,
    "slideshow": {
     "slide_type": ""
    },
    "tags": [
     "nbval-skip"
    ]
   },
   "outputs": [],
   "source": [
    "filter_results(\"[Your harvest id]\", title=11)"
   ]
  },
  {
   "cell_type": "markdown",
   "id": "421ffb89-2e1d-4922-b4c5-32d4f375b927",
   "metadata": {
    "editable": true,
    "slideshow": {
     "slide_type": ""
    },
    "tags": []
   },
   "source": [
    "Create a filtered results set containing articles published in 1950 in the *Canberra Times*:"
   ]
  },
  {
   "cell_type": "code",
   "execution_count": null,
   "id": "9ca341ae-1bd5-4e78-80cb-674ea15b8a38",
   "metadata": {
    "editable": true,
    "slideshow": {
     "slide_type": ""
    },
    "tags": [
     "nbval-skip"
    ]
   },
   "outputs": [],
   "source": [
    "filter_results(\"20240522025457\", year=1950, title=11)"
   ]
  },
  {
   "cell_type": "code",
   "execution_count": null,
   "id": "54f15553-5287-468f-a4de-9c90755138ef",
   "metadata": {
    "editable": true,
    "slideshow": {
     "slide_type": ""
    },
    "tags": []
   },
   "outputs": [],
   "source": [
    "# IGNORE CELL -- TESTING ONLY\n",
    "if os.getenv(\"GW_STATUS\") == \"dev\":\n",
    "    API_KEY = os.getenv(\"TROVE_API_KEY\")\n",
    "    query = \"https://trove.nla.gov.au/search/category/newspapers?keyword=%22octopus%20intelligence%22\"\n",
    "    params = prepare_query(query=query)\n",
    "    harvester = Harvester(query_params=params, key=API_KEY, text=True)\n",
    "    harvester.harvest()\n",
    "    harvester.save_csv()\n",
    "    harvest_id = harvester.harvest_dir.name\n",
    "    slicer = HarvestSlicer(harvest_id)\n",
    "    slicer.slice_titles()\n",
    "    slicer.slice_years()\n",
    "    filter_results(harvest_id, year=1946)\n",
    "    shutil.rmtree(harvester.harvest_dir)"
   ]
  },
  {
   "cell_type": "markdown",
   "id": "e66ef62f-890f-462f-9ed9-100856839807",
   "metadata": {
    "editable": true,
    "slideshow": {
     "slide_type": ""
    },
    "tags": []
   },
   "source": [
    "----\n",
    "\n",
    "Created by [Tim Sherratt](https://timsherratt.au) for the [GLAM Workbench](https://glam-workbench.net/).  \n",
    "\n"
   ]
  }
 ],
 "metadata": {
  "kernelspec": {
   "display_name": "Python 3 (ipykernel)",
   "language": "python",
   "name": "python3"
  },
  "language_info": {
   "codemirror_mode": {
    "name": "ipython",
    "version": 3
   },
   "file_extension": ".py",
   "mimetype": "text/x-python",
   "name": "python",
   "nbconvert_exporter": "python",
   "pygments_lexer": "ipython3",
   "version": "3.10.12"
  },
  "rocrate": {
   "author": [
    {
     "name": "Sherratt, Tim",
     "orcid": "https://orcid.org/0000-0001-7956-4498"
    }
   ],
   "category": "harvesting",
   "description": "The Trove Newspaper Harvester downloads the OCRd text of newspaper articles as individual text files – one file for each article. That's great for exploring the content of individual articles in depth, but sometimes you might want to zoom out and aggregate the files into larger chunks. For example, if you're interested in how language changes over time, you might what to create a separate corpus for each year in the results set. Or perhaps you want to examine differences in the way particular newspapers talk about an event by grouping the articles by newspaper. This notebook provides a slice and dice wonder tool for Trove newspaper harvests, enabling you to repackage OCRd text by decade, year, and newspaper title. It saves the results as zip files, concatenated text files, or CSV files with embedded text. These repackaged slices should suit a variety of text analysis tools and questions.",
   "mainEntityOfPage": "https://glam-workbench.net/trove-harvester/reshaping-harvests/",
   "name": "Reshaping your newspaper harvest",
   "position": 5
  }
 },
 "nbformat": 4,
 "nbformat_minor": 5
}
