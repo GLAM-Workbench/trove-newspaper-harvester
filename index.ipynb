{
 "cells": [
  {
   "cell_type": "markdown",
   "id": "2396596c",
   "metadata": {},
   "source": [
    "# trove-newspaper-harvester\n",
    "\n",
    "CURRENT VERSION: v2.1.0\n",
    "\n",
    "The Trove Newspaper & Gazette Harvester makes it easy to download large quantities of digitised articles from Trove's newspapers and gazettes. Just give it a search from the Trove web interface, and the harvester will save the metadata of all the articles in a CSV (spreadsheet) file for further analysis. You can also save the full text of every article, as well as copies of the articles as JPG images, and even PDFs. While the web interface will only show you the first 2,000 results matching your search, the Newspaper & Gazette Harvester will get everything.\n",
    "\n",
    "For more information and documentation see the [Trove Newspaper & Gazette Harvester](https://glam-workbench.net/trove-newspaper-harvester) section of the [GLAM Workbench](https://glam-workbench.net).\n",
    "\n",
    "## Notebooks\n",
    "- [Display the results of a harvest as a searchable database using Datasette](https://github.com/GLAM-Workbench/trove-newspaper-harvester/blob/master/display_harvest_results_using_datasette.ipynb)\n",
    "- [Explore harvested text files](https://github.com/GLAM-Workbench/trove-newspaper-harvester/blob/master/Explore-harvested-text-files.ipynb)\n",
    "- [Using the Trove Newspaper Harvester on the command line](https://github.com/GLAM-Workbench/trove-newspaper-harvester/blob/master/Using-TroveHarvester-to-get-newspaper-articles-in-bulk.ipynb)\n",
    "- [Trove Newspaper & Gazette Harvester](https://github.com/GLAM-Workbench/trove-newspaper-harvester/blob/master/newspaper_harvester_app.ipynb)\n",
    "- [Exploring your harvested data](https://github.com/GLAM-Workbench/trove-newspaper-harvester/blob/master/Exploring-your-TroveHarvester-data.ipynb)\n",
    "- [Using the Trove Harvester as a Python package](https://github.com/GLAM-Workbench/trove-newspaper-harvester/blob/master/basic-harvester-example.ipynb)\n",
    "- [Harvesting articles that mention \"Anzac Day\" on Anzac Day](https://github.com/GLAM-Workbench/trove-newspaper-harvester/blob/master/harvest-specific-days.ipynb)\n",
    "- [Reshaping your newspaper harvest](https://github.com/GLAM-Workbench/trove-newspaper-harvester/blob/master/reshaping-harvests.ipynb)\n"
   ]
  },
  {
   "cell_type": "markdown",
   "id": "e12a8293",
   "metadata": {},
   "source": [
    "----\n",
    "Created by [Tim Sherratt](https://timsherratt.au) for the [GLAM Workbench](https://glam-workbench.net)"
   ]
  }
 ],
 "metadata": {
  "jupytext": {
   "cell_metadata_filter": "-all"
  },
  "kernelspec": {
   "display_name": "Python 3 (ipykernel)",
   "language": "python",
   "name": "python3"
  }
 },
 "nbformat": 4,
 "nbformat_minor": 5
}
