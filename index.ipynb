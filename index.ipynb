{
 "cells": [
  {
   "cell_type": "markdown",
   "id": "2feae2f0",
   "metadata": {},
   "source": [
    "# Trove Newspaper and Gazette Harvester\n",
    "\n",
    "The [Trove Newspaper & Gazette Harvester Harvester](https://pypi.org/project/troveharvester/) makes it easy to download large quantities of digitised articles from Trove's newspapers and gazettes. Just give it a search from the Trove web interface, and the harvester will save the metadata of all the articles in a CSV (spreadsheet) file for further analysis. You can also save the full text of every article, as well as copies of the articles as JPG images, and even PDFs. While the web interface will only show you the first 2,000 results matching your search, the Newspaper & Gazette Harvester will get **everything**.\n",
    "\n",
    "The Jupyter notebooks in this repository use the Trove Newspaper and Gazette Harvester to download large quantities of digitised newspaper articles from Trove. There's also a few examples of how you can analyse and explore the harvested data.\n",
    "\n",
    "The notebooks include:\n",
    "\n",
    "* [**Using TroveHarvester to get newspaper articles in bulk**](Using-TroveHarvester-to-get-newspaper-articles-in-bulk.ipynb) — an easy introduction to the TroveHarvester tool\n",
    "* [**Trove Harvester web app**](newspaper_harvester_app.ipynb) — a simple web interface to the TroveHarvester, the easiest way to harvest data from Trove (runs in Voila)\n",
    "* [**Display the results of a harvest as a searchable database using Datasette**](display_harvest_results_using_datasette.ipynb) – load your harvested data into a SQLite database and explore it using Datasette\n",
    "* [**Exploring your TroveHarvester data**](Exploring-your-TroveHarvester-data.ipynb) — use Pandas to analyse your data and create some visualisations\n",
    "* [**Explore harvested text files**](Explore-harvested-text-files.ipynb) (experimental) — analyse the full text content of harvested articles\n",
    "\n",
    "See the [GLAM Workbench for more details](https://glam-workbench.github.io/trove-harvester/)."
   ]
  },
  {
   "cell_type": "markdown",
   "id": "d8605221",
   "metadata": {},
   "source": [
    "## Cite as\n",
    "\n",
    "See the GLAM Workbench or [Zenodo](https://doi.org/10.5281/zenodo.3545044) for up-to-date citation details.\n",
    "\n",
    "----\n",
    "\n",
    "This repository is part of the [GLAM Workbench](https://glam-workbench.github.io/).  \n",
    "If you think this project is worthwhile, you might like [to sponsor me on GitHub](https://github.com/sponsors/wragge?o=esb)."
   ]
  }
 ],
 "metadata": {
  "jupytext": {
   "cell_metadata_filter": "-all",
   "main_language": "python",
   "notebook_metadata_filter": "-all"
  }
 },
 "nbformat": 4,
 "nbformat_minor": 5
}
