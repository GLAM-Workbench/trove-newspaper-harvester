{
 "cells": [
  {
   "cell_type": "markdown",
   "id": "eb019a32",
   "metadata": {},
   "source": [
    "# trove-newspaper-harvester\n",
    "\n",
    "A GLAM Workbench repository\n",
    "\n",
    "For more information and documentation see the [Redirecting...](https://glam-workbench.net/trove-newspaper-harvester) section of the [GLAM Workbench](https://glam-workbench.net).\n",
    "\n",
    "## Notebooks\n",
    "- [Display the results of a harvest as a searchable database using Datasette](https://github.com/GLAM-Workbench/trove-newspaper-harvester/blob/master/display_harvest_results_using_datasette.ipynb)\n",
    "- [Explore harvested text files](https://github.com/GLAM-Workbench/trove-newspaper-harvester/blob/master/Explore-harvested-text-files.ipynb)\n",
    "- [Using the Trove Newspaper Harvester on the command line](https://github.com/GLAM-Workbench/trove-newspaper-harvester/blob/master/Using-TroveHarvester-to-get-newspaper-articles-in-bulk.ipynb)\n",
    "- [Trove Newspaper & Gazette Harvester](https://github.com/GLAM-Workbench/trove-newspaper-harvester/blob/master/newspaper_harvester_app.ipynb)\n",
    "- [Exploring your harvested data](https://github.com/GLAM-Workbench/trove-newspaper-harvester/blob/master/Exploring-your-TroveHarvester-data.ipynb)\n",
    "- [Using the Trove Harvester as a Python package](https://github.com/GLAM-Workbench/trove-newspaper-harvester/blob/master/basic-harvester-example.ipynb)\n",
    "- [Harvesting articles that mention \"Anzac Day\" on Anzac Day](https://github.com/GLAM-Workbench/trove-newspaper-harvester/blob/master/harvest-specific-days.ipynb)\n",
    "- [Reshaping your newspaper harvest](https://github.com/GLAM-Workbench/trove-newspaper-harvester/blob/master/reshaping-harvests.ipynb)\n"
   ]
  },
  {
   "cell_type": "markdown",
   "id": "201d4e19",
   "metadata": {},
   "source": [
    "----\n",
    "Created by [Tim Sherratt](https://timsherratt.au) for the [GLAM Workbench](https://glam-workbench.net)"
   ]
  }
 ],
 "metadata": {
  "jupytext": {
   "cell_metadata_filter": "-all"
  },
  "kernelspec": {
   "display_name": "Python 3 (ipykernel)",
   "language": "python",
   "name": "python3"
  }
 },
 "nbformat": 4,
 "nbformat_minor": 5
}
